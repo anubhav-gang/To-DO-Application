{
 "cells": [
  {
   "cell_type": "code",
   "execution_count": 3,
   "metadata": {},
   "outputs": [
    {
     "name": "stdout",
     "output_type": "stream",
     "text": [
      "\n",
      "1. Add task\n",
      "2. Delete task\n",
      "3. Complete task\n",
      "4. View tasks\n",
      "5. Exit\n",
      "Enter your choice: 5\n"
     ]
    }
   ],
   "source": [
    "class ToDoList:\n",
    "    def __init__(self):\n",
    "        self.tasks = []\n",
    "\n",
    "    def add_task(self, task):\n",
    "        self.tasks.append({\"Task\": task, \"Completed\": False})\n",
    "\n",
    "    def delete_task(self, task):\n",
    "        for t in self.tasks:\n",
    "            if t[\"Task\"] == task:\n",
    "                self.tasks.remove(t)\n",
    "                break\n",
    "\n",
    "    def complete_task(self, task):\n",
    "        for t in self.tasks:\n",
    "            if t[\"Task\"] == task:\n",
    "                t[\"Completed\"] = True\n",
    "                break\n",
    "\n",
    "    def view_tasks(self):\n",
    "        for t in self.tasks:\n",
    "            status = \"Completed\" if t[\"Completed\"] else \"Not Completed\"\n",
    "            print(f'Task: {t[\"Task\"]}, Status: {status}')\n",
    "\n",
    "\n",
    "todo = ToDoList()\n",
    "\n",
    "while True:\n",
    "    print(\"\\n1. Add task\")\n",
    "    print(\"2. Delete task\")\n",
    "    print(\"3. Complete task\")\n",
    "    print(\"4. View tasks\")\n",
    "    print(\"5. Exit\")\n",
    "    choice = int(input(\"Enter your choice: \"))\n",
    "\n",
    "    if choice == 1:\n",
    "        task = input(\"Enter task: \")\n",
    "        todo.add_task(task)\n",
    "    elif choice == 2:\n",
    "        task = input(\"Enter task: \")\n",
    "        todo.delete_task(task)\n",
    "    elif choice == 3:\n",
    "        task = input(\"Enter task: \")\n",
    "        todo.complete_task(task)\n",
    "    elif choice == 4:\n",
    "        todo.view_tasks()\n",
    "    elif choice == 5:\n",
    "        break\n",
    "    else:\n",
    "        print(\"Invalid choice. Please try again.\")"
   ]
  },
  {
   "cell_type": "code",
   "execution_count": null,
   "metadata": {},
   "outputs": [],
   "source": []
  }
 ],
 "metadata": {
  "kernelspec": {
   "display_name": "Python 3",
   "language": "python",
   "name": "python3"
  },
  "language_info": {
   "codemirror_mode": {
    "name": "ipython",
    "version": 3
   },
   "file_extension": ".py",
   "mimetype": "text/x-python",
   "name": "python",
   "nbconvert_exporter": "python",
   "pygments_lexer": "ipython3",
   "version": "3.8.5"
  }
 },
 "nbformat": 4,
 "nbformat_minor": 4
}
