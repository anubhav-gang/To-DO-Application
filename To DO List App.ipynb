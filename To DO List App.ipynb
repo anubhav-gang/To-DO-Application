{
 "cells": [
  {
   "cell_type": "code",
   "execution_count": null,
   "metadata": {},
   "outputs": [],
   "source": [
    "import tkinter as tk\n",
    "from tkinter import messagebox\n",
    "\n",
    "class TodoListApp:\n",
    "    def __init__(self, master):\n",
    "        self.master = master\n",
    "        self.master.title(\"To-Do List App\")\n",
    "\n",
    "        self.tasks = []\n",
    "\n",
    "        self.task_entry = tk.Entry(master, width=40)\n",
    "        self.task_entry.grid(row=0, column=0, padx=10, pady=10)\n",
    "\n",
    "        self.add_button = tk.Button(master, text=\"Add Task\", command=self.add_task)\n",
    "        self.add_button.grid(row=0, column=1, padx=5, pady=10)\n",
    "\n",
    "        self.task_listbox = tk.Listbox(master, width=50, height=15)\n",
    "        self.task_listbox.grid(row=1, column=0, columnspan=2, padx=10, pady=5)\n",
    "\n",
    "        self.complete_button = tk.Button(master, text=\"Mark as Completed\", command=self.mark_completed)\n",
    "        self.complete_button.grid(row=2, column=0, columnspan=2, padx=5, pady=5)\n",
    "\n",
    "    def add_task(self):\n",
    "        task = self.task_entry.get()\n",
    "        if task:\n",
    "            self.tasks.append(task)\n",
    "            self.task_listbox.insert(tk.END, task)\n",
    "            self.task_entry.delete(0, tk.END)\n",
    "        else:\n",
    "            messagebox.showwarning(\"Warning\", \"Please enter a task.\")\n",
    "\n",
    "    def mark_completed(self):\n",
    "        selected_task_index = self.task_listbox.curselection()\n",
    "        if selected_task_index:\n",
    "            task_index = selected_task_index[0]\n",
    "            task = self.tasks[task_index]\n",
    "            self.tasks[task_index] = task + \" (Completed)\"\n",
    "            self.task_listbox.delete(task_index)\n",
    "            self.task_listbox.insert(task_index, self.tasks[task_index])\n",
    "        else:\n",
    "            messagebox.showwarning(\"Warning\", \"Please select a task to mark as completed.\")\n",
    "\n",
    "def main():\n",
    "    root = tk.Tk()\n",
    "    app = TodoListApp(root)\n",
    "    root.mainloop()\n",
    "\n",
    "if __name__ == \"__main__\":\n",
    "    main()\n"
   ]
  },
  {
   "cell_type": "code",
   "execution_count": null,
   "metadata": {},
   "outputs": [],
   "source": [
    "Create"
   ]
  }
 ],
 "metadata": {
  "kernelspec": {
   "display_name": "Python 3",
   "language": "python",
   "name": "python3"
  },
  "language_info": {
   "codemirror_mode": {
    "name": "ipython",
    "version": 3
   },
   "file_extension": ".py",
   "mimetype": "text/x-python",
   "name": "python",
   "nbconvert_exporter": "python",
   "pygments_lexer": "ipython3",
   "version": "3.8.5"
  }
 },
 "nbformat": 4,
 "nbformat_minor": 4
}
